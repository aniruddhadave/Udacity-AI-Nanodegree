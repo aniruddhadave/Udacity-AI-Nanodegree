{
 "cells": [
  {
   "cell_type": "markdown",
   "metadata": {
    "collapsed": true
   },
   "source": [
    "# Artificial Intelligence Nanodegree\n",
    "## Machine Translation Project\n",
    "In this notebook, sections that end with **'(IMPLEMENTATION)'** in the header indicate that the following blocks of code will require additional functionality which you must provide. Please be sure to read the instructions carefully!\n",
    "\n",
    "## Introduction\n",
    "In this notebook, you will build a deep neural network that functions as part of an end-to-end machine translation pipeline. Your completed pipeline will accept English text as input and return the French translation.\n",
    "\n",
    "- **Preprocess** - You'll convert text to sequence of integers.\n",
    "- **Models** Create models which accepts a sequence of integers as input and returns a probability distribution over possible translations. After learning about the basic types of neural networks that are often used for machine translation, you will engage in your own investigations, to design your own model!\n",
    "- **Prediction** Run the model on English text."
   ]
  },
  {
   "cell_type": "code",
   "execution_count": 2,
   "metadata": {},
   "outputs": [],
   "source": [
    "%load_ext autoreload\n",
    "%aimport helper, tests\n",
    "%autoreload 1"
   ]
  },
  {
   "cell_type": "code",
   "execution_count": 3,
   "metadata": {},
   "outputs": [],
   "source": [
    "import collections\n",
    "\n",
    "import helper\n",
    "import numpy as np\n",
    "import project_tests as tests\n",
    "\n",
    "from keras.preprocessing.text import Tokenizer\n",
    "from keras.preprocessing.sequence import pad_sequences\n",
    "from keras.models import Model\n",
    "from keras.layers import GRU, Input, Dense, TimeDistributed, Activation, RepeatVector, Bidirectional\n",
    "from keras.layers.embeddings import Embedding\n",
    "from keras.optimizers import Adam\n",
    "from keras.losses import sparse_categorical_crossentropy"
   ]
  },
  {
   "cell_type": "markdown",
   "metadata": {},
   "source": [
    "### Verify access to the GPU\n",
    "The following test applies only if you expect to be using a GPU, e.g., while running in a Udacity Workspace or using an AWS instance with GPU support. Run the next cell, and verify that the device_type is \"GPU\".\n",
    "- If the device is not GPU & you are running from a Udacity Workspace, then save your workspace with the icon at the top, then click \"enable\" at the bottom of the workspace.\n",
    "- If the device is not GPU & you are running from an AWS instance, then refer to the cloud computing instructions in the classroom to verify your setup steps."
   ]
  },
  {
   "cell_type": "code",
   "execution_count": 4,
   "metadata": {},
   "outputs": [
    {
     "name": "stdout",
     "output_type": "stream",
     "text": [
      "[name: \"/cpu:0\"\n",
      "device_type: \"CPU\"\n",
      "memory_limit: 268435456\n",
      "locality {\n",
      "}\n",
      "incarnation: 3078701263489086520\n",
      ", name: \"/gpu:0\"\n",
      "device_type: \"GPU\"\n",
      "memory_limit: 357171200\n",
      "locality {\n",
      "  bus_id: 1\n",
      "}\n",
      "incarnation: 5039472740092936944\n",
      "physical_device_desc: \"device: 0, name: Tesla K80, pci bus id: 0000:00:04.0\"\n",
      "]\n"
     ]
    }
   ],
   "source": [
    "from tensorflow.python.client import device_lib\n",
    "print(device_lib.list_local_devices())"
   ]
  },
  {
   "cell_type": "markdown",
   "metadata": {},
   "source": [
    "## Dataset\n",
    "We begin by investigating the dataset that will be used to train and evaluate your pipeline.  The most common datasets used for machine translation are from [WMT](http://www.statmt.org/).  However, that will take a long time to train a neural network on.  We'll be using a dataset we created for this project that contains a small vocabulary.  You'll be able to train your model in a reasonable time with this dataset.\n",
    "### Load Data\n",
    "The data is located in `data/small_vocab_en` and `data/small_vocab_fr`. The `small_vocab_en` file contains English sentences with their French translations in the `small_vocab_fr` file. Load the English and French data from these files from running the cell below."
   ]
  },
  {
   "cell_type": "code",
   "execution_count": 5,
   "metadata": {},
   "outputs": [
    {
     "name": "stdout",
     "output_type": "stream",
     "text": [
      "Dataset Loaded\n"
     ]
    }
   ],
   "source": [
    "# Load English data\n",
    "english_sentences = helper.load_data('data/small_vocab_en')\n",
    "# Load French data\n",
    "french_sentences = helper.load_data('data/small_vocab_fr')\n",
    "\n",
    "print('Dataset Loaded')"
   ]
  },
  {
   "cell_type": "markdown",
   "metadata": {},
   "source": [
    "### Files\n",
    "Each line in `small_vocab_en` contains an English sentence with the respective translation in each line of `small_vocab_fr`.  View the first two lines from each file."
   ]
  },
  {
   "cell_type": "code",
   "execution_count": 6,
   "metadata": {},
   "outputs": [
    {
     "name": "stdout",
     "output_type": "stream",
     "text": [
      "small_vocab_en Line 1:  new jersey is sometimes quiet during autumn , and it is snowy in april .\n",
      "small_vocab_fr Line 1:  new jersey est parfois calme pendant l' automne , et il est neigeux en avril .\n",
      "small_vocab_en Line 2:  the united states is usually chilly during july , and it is usually freezing in november .\n",
      "small_vocab_fr Line 2:  les états-unis est généralement froid en juillet , et il gèle habituellement en novembre .\n"
     ]
    }
   ],
   "source": [
    "for sample_i in range(2):\n",
    "    print('small_vocab_en Line {}:  {}'.format(sample_i + 1, english_sentences[sample_i]))\n",
    "    print('small_vocab_fr Line {}:  {}'.format(sample_i + 1, french_sentences[sample_i]))"
   ]
  },
  {
   "cell_type": "markdown",
   "metadata": {},
   "source": [
    "From looking at the sentences, you can see they have been preprocessed already.  The puncuations have been delimited using spaces. All the text have been converted to lowercase.  This should save you some time, but the text requires more preprocessing.\n",
    "### Vocabulary\n",
    "The complexity of the problem is determined by the complexity of the vocabulary.  A more complex vocabulary is a more complex problem.  Let's look at the complexity of the dataset we'll be working with."
   ]
  },
  {
   "cell_type": "code",
   "execution_count": 7,
   "metadata": {},
   "outputs": [
    {
     "name": "stdout",
     "output_type": "stream",
     "text": [
      "1823250 English words.\n",
      "227 unique English words.\n",
      "10 Most common words in the English dataset:\n",
      "\"is\" \",\" \".\" \"in\" \"it\" \"during\" \"the\" \"but\" \"and\" \"sometimes\"\n",
      "\n",
      "1961295 French words.\n",
      "355 unique French words.\n",
      "10 Most common words in the French dataset:\n",
      "\"est\" \".\" \",\" \"en\" \"il\" \"les\" \"mais\" \"et\" \"la\" \"parfois\"\n"
     ]
    }
   ],
   "source": [
    "english_words_counter = collections.Counter([word for sentence in english_sentences for word in sentence.split()])\n",
    "french_words_counter = collections.Counter([word for sentence in french_sentences for word in sentence.split()])\n",
    "\n",
    "print('{} English words.'.format(len([word for sentence in english_sentences for word in sentence.split()])))\n",
    "print('{} unique English words.'.format(len(english_words_counter)))\n",
    "print('10 Most common words in the English dataset:')\n",
    "print('\"' + '\" \"'.join(list(zip(*english_words_counter.most_common(10)))[0]) + '\"')\n",
    "print()\n",
    "print('{} French words.'.format(len([word for sentence in french_sentences for word in sentence.split()])))\n",
    "print('{} unique French words.'.format(len(french_words_counter)))\n",
    "print('10 Most common words in the French dataset:')\n",
    "print('\"' + '\" \"'.join(list(zip(*french_words_counter.most_common(10)))[0]) + '\"')"
   ]
  },
  {
   "cell_type": "markdown",
   "metadata": {},
   "source": [
    "For comparison, _Alice's Adventures in Wonderland_ contains 2,766 unique words of a total of 15,500 words.\n",
    "## Preprocess\n",
    "For this project, you won't use text data as input to your model. Instead, you'll convert the text into sequences of integers using the following preprocess methods:\n",
    "1. Tokenize the words into ids\n",
    "2. Add padding to make all the sequences the same length.\n",
    "\n",
    "Time to start preprocessing the data...\n",
    "### Tokenize (IMPLEMENTATION)\n",
    "For a neural network to predict on text data, it first has to be turned into data it can understand. Text data like \"dog\" is a sequence of ASCII character encodings.  Since a neural network is a series of multiplication and addition operations, the input data needs to be number(s).\n",
    "\n",
    "We can turn each character into a number or each word into a number.  These are called character and word ids, respectively.  Character ids are used for character level models that generate text predictions for each character.  A word level model uses word ids that generate text predictions for each word.  Word level models tend to learn better, since they are lower in complexity, so we'll use those.\n",
    "\n",
    "Turn each sentence into a sequence of words ids using Keras's [`Tokenizer`](https://keras.io/preprocessing/text/#tokenizer) function. Use this function to tokenize `english_sentences` and `french_sentences` in the cell below.\n",
    "\n",
    "Running the cell will run `tokenize` on sample data and show output for debugging."
   ]
  },
  {
   "cell_type": "code",
   "execution_count": 8,
   "metadata": {},
   "outputs": [
    {
     "name": "stdout",
     "output_type": "stream",
     "text": [
      "{'the': 1, 'quick': 2, 'a': 3, 'brown': 4, 'fox': 5, 'jumps': 6, 'over': 7, 'lazy': 8, 'dog': 9, 'by': 10, 'jove': 11, 'my': 12, 'study': 13, 'of': 14, 'lexicography': 15, 'won': 16, 'prize': 17, 'this': 18, 'is': 19, 'short': 20, 'sentence': 21}\n",
      "\n",
      "Sequence 1 in x\n",
      "  Input:  The quick brown fox jumps over the lazy dog .\n",
      "  Output: [1, 2, 4, 5, 6, 7, 1, 8, 9]\n",
      "Sequence 2 in x\n",
      "  Input:  By Jove , my quick study of lexicography won a prize .\n",
      "  Output: [10, 11, 12, 2, 13, 14, 15, 16, 3, 17]\n",
      "Sequence 3 in x\n",
      "  Input:  This is a short sentence .\n",
      "  Output: [18, 19, 3, 20, 21]\n"
     ]
    }
   ],
   "source": [
    "def tokenize(x):\n",
    "    \"\"\"\n",
    "    Tokenize x\n",
    "    :param x: List of sentences/strings to be tokenized\n",
    "    :return: Tuple of (tokenized x data, tokenizer used to tokenize x)\n",
    "    \"\"\"\n",
    "    # Keras Tokenizer Instance\n",
    "    t = Tokenizer()\n",
    "    \n",
    "    # Fit the tokenizer on the list of sentences/strings\n",
    "    t.fit_on_texts(x)\n",
    "    \n",
    "    # Tokenize the data\n",
    "    tokenized_text = t.texts_to_sequences(x)\n",
    "    \n",
    "    return tokenized_text, t\n",
    "tests.test_tokenize(tokenize)\n",
    "\n",
    "# Tokenize Example output\n",
    "text_sentences = [\n",
    "    'The quick brown fox jumps over the lazy dog .',\n",
    "    'By Jove , my quick study of lexicography won a prize .',\n",
    "    'This is a short sentence .']\n",
    "text_tokenized, text_tokenizer = tokenize(text_sentences)\n",
    "print(text_tokenizer.word_index)\n",
    "print()\n",
    "for sample_i, (sent, token_sent) in enumerate(zip(text_sentences, text_tokenized)):\n",
    "    print('Sequence {} in x'.format(sample_i + 1))\n",
    "    print('  Input:  {}'.format(sent))\n",
    "    print('  Output: {}'.format(token_sent))"
   ]
  },
  {
   "cell_type": "markdown",
   "metadata": {},
   "source": [
    "### Padding (IMPLEMENTATION)\n",
    "When batching the sequence of word ids together, each sequence needs to be the same length.  Since sentences are dynamic in length, we can add padding to the end of the sequences to make them the same length.\n",
    "\n",
    "Make sure all the English sequences have the same length and all the French sequences have the same length by adding padding to the **end** of each sequence using Keras's [`pad_sequences`](https://keras.io/preprocessing/sequence/#pad_sequences) function."
   ]
  },
  {
   "cell_type": "code",
   "execution_count": 9,
   "metadata": {},
   "outputs": [
    {
     "name": "stdout",
     "output_type": "stream",
     "text": [
      "Sequence 1 in x\n",
      "  Input:  [1 2 4 5 6 7 1 8 9]\n",
      "  Output: [1 2 4 5 6 7 1 8 9 0]\n",
      "Sequence 2 in x\n",
      "  Input:  [10 11 12  2 13 14 15 16  3 17]\n",
      "  Output: [10 11 12  2 13 14 15 16  3 17]\n",
      "Sequence 3 in x\n",
      "  Input:  [18 19  3 20 21]\n",
      "  Output: [18 19  3 20 21  0  0  0  0  0]\n"
     ]
    }
   ],
   "source": [
    "def pad(x, length=None):\n",
    "    \"\"\"\n",
    "    Pad x\n",
    "    :param x: List of sequences.\n",
    "    :param length: Length to pad the sequence to.  If None, use length of longest sequence in x.\n",
    "    :return: Padded numpy array of sequences\n",
    "    \"\"\"\n",
    "    \n",
    "    padded_sequences = pad_sequences(x,                 # List of sequences \n",
    "                                     maxlen= length,    # Length to sequnce the pad\n",
    "                                     padding= 'post')   # Pad after each sequence\n",
    "    \n",
    "    return padded_sequences\n",
    "tests.test_pad(pad)\n",
    "\n",
    "# Pad Tokenized output\n",
    "test_pad = pad(text_tokenized)\n",
    "for sample_i, (token_sent, pad_sent) in enumerate(zip(text_tokenized, test_pad)):\n",
    "    print('Sequence {} in x'.format(sample_i + 1))\n",
    "    print('  Input:  {}'.format(np.array(token_sent)))\n",
    "    print('  Output: {}'.format(pad_sent))"
   ]
  },
  {
   "cell_type": "markdown",
   "metadata": {},
   "source": [
    "### Preprocess Pipeline\n",
    "Your focus for this project is to build neural network architecture, so we won't ask you to create a preprocess pipeline.  Instead, we've provided you with the implementation of the `preprocess` function."
   ]
  },
  {
   "cell_type": "code",
   "execution_count": 10,
   "metadata": {},
   "outputs": [
    {
     "name": "stdout",
     "output_type": "stream",
     "text": [
      "Data Preprocessed\n",
      "Max English sentence length: 15\n",
      "Max French sentence length: 21\n",
      "English vocabulary size: 199\n",
      "French vocabulary size: 344\n"
     ]
    }
   ],
   "source": [
    "def preprocess(x, y):\n",
    "    \"\"\"\n",
    "    Preprocess x and y\n",
    "    :param x: Feature List of sentences\n",
    "    :param y: Label List of sentences\n",
    "    :return: Tuple of (Preprocessed x, Preprocessed y, x tokenizer, y tokenizer)\n",
    "    \"\"\"\n",
    "    preprocess_x, x_tk = tokenize(x)\n",
    "    preprocess_y, y_tk = tokenize(y)\n",
    "\n",
    "    preprocess_x = pad(preprocess_x)\n",
    "    preprocess_y = pad(preprocess_y)\n",
    "\n",
    "    # Keras's sparse_categorical_crossentropy function requires the labels to be in 3 dimensions\n",
    "    preprocess_y = preprocess_y.reshape(*preprocess_y.shape, 1)\n",
    "\n",
    "    return preprocess_x, preprocess_y, x_tk, y_tk\n",
    "\n",
    "preproc_english_sentences, preproc_french_sentences, english_tokenizer, french_tokenizer =\\\n",
    "    preprocess(english_sentences, french_sentences)\n",
    "    \n",
    "max_english_sequence_length = preproc_english_sentences.shape[1]\n",
    "max_french_sequence_length = preproc_french_sentences.shape[1]\n",
    "english_vocab_size = len(english_tokenizer.word_index)\n",
    "french_vocab_size = len(french_tokenizer.word_index)\n",
    "\n",
    "print('Data Preprocessed')\n",
    "print(\"Max English sentence length:\", max_english_sequence_length)\n",
    "print(\"Max French sentence length:\", max_french_sequence_length)\n",
    "print(\"English vocabulary size:\", english_vocab_size)\n",
    "print(\"French vocabulary size:\", french_vocab_size)"
   ]
  },
  {
   "cell_type": "markdown",
   "metadata": {},
   "source": [
    "## Models\n",
    "In this section, you will experiment with various neural network architectures.\n",
    "You will begin by training four relatively simple architectures.\n",
    "- Model 1 is a simple RNN\n",
    "- Model 2 is a RNN with Embedding\n",
    "- Model 3 is a Bidirectional RNN\n",
    "- Model 4 is an optional Encoder-Decoder RNN\n",
    "\n",
    "After experimenting with the four simple architectures, you will construct a deeper architecture that is designed to outperform all four models.\n",
    "### Ids Back to Text\n",
    "The neural network will be translating the input to words ids, which isn't the final form we want.  We want the French translation.  The function `logits_to_text` will bridge the gap between the logits from the neural network to the French translation.  You'll be using this function to better understand the output of the neural network."
   ]
  },
  {
   "cell_type": "code",
   "execution_count": 11,
   "metadata": {},
   "outputs": [
    {
     "name": "stdout",
     "output_type": "stream",
     "text": [
      "`logits_to_text` function loaded.\n"
     ]
    }
   ],
   "source": [
    "def logits_to_text(logits, tokenizer):\n",
    "    \"\"\"\n",
    "    Turn logits from a neural network into text using the tokenizer\n",
    "    :param logits: Logits from a neural network\n",
    "    :param tokenizer: Keras Tokenizer fit on the labels\n",
    "    :return: String that represents the text of the logits\n",
    "    \"\"\"\n",
    "    index_to_words = {id: word for word, id in tokenizer.word_index.items()}\n",
    "    index_to_words[0] = '<PAD>'\n",
    "\n",
    "    return ' '.join([index_to_words[prediction] for prediction in np.argmax(logits, 1)])\n",
    "\n",
    "print('`logits_to_text` function loaded.')"
   ]
  },
  {
   "cell_type": "markdown",
   "metadata": {},
   "source": [
    "### Model 1: RNN (IMPLEMENTATION)\n",
    "![RNN](images/rnn.png)\n",
    "A basic RNN model is a good baseline for sequence data.  In this model, you'll build a RNN that translates English to French."
   ]
  },
  {
   "cell_type": "code",
   "execution_count": 27,
   "metadata": {},
   "outputs": [
    {
     "name": "stdout",
     "output_type": "stream",
     "text": [
      "Train on 110288 samples, validate on 27573 samples\n",
      "Epoch 1/10\n",
      "110288/110288 [==============================] - 18s 164us/step - loss: 2.4383 - acc: 0.4968 - val_loss: nan - val_acc: 0.5794\n",
      "Epoch 2/10\n",
      "110288/110288 [==============================] - 17s 159us/step - loss: 1.5339 - acc: 0.5876 - val_loss: nan - val_acc: 0.6174\n",
      "Epoch 3/10\n",
      "110288/110288 [==============================] - 17s 159us/step - loss: 1.3521 - acc: 0.6145 - val_loss: nan - val_acc: 0.6447\n",
      "Epoch 4/10\n",
      "110288/110288 [==============================] - 17s 158us/step - loss: 1.2508 - acc: 0.6340 - val_loss: nan - val_acc: 0.6665\n",
      "Epoch 5/10\n",
      "110288/110288 [==============================] - 17s 158us/step - loss: 1.1793 - acc: 0.6475 - val_loss: nan - val_acc: 0.6743\n",
      "Epoch 6/10\n",
      "110288/110288 [==============================] - 17s 158us/step - loss: 1.1282 - acc: 0.6559 - val_loss: nan - val_acc: 0.6764\n",
      "Epoch 7/10\n",
      "110288/110288 [==============================] - 17s 158us/step - loss: 1.0871 - acc: 0.6624 - val_loss: nan - val_acc: 0.6915\n",
      "Epoch 8/10\n",
      "110288/110288 [==============================] - 17s 158us/step - loss: 1.0521 - acc: 0.6680 - val_loss: nan - val_acc: 0.6966\n",
      "Epoch 9/10\n",
      "110288/110288 [==============================] - 17s 157us/step - loss: 1.0222 - acc: 0.6732 - val_loss: nan - val_acc: 0.7035\n",
      "Epoch 10/10\n",
      "110288/110288 [==============================] - 17s 158us/step - loss: 0.9955 - acc: 0.6781 - val_loss: nan - val_acc: 0.7066\n",
      "new jersey est parfois calme en mois de il est est en en <PAD> <PAD> <PAD> <PAD> <PAD> <PAD> <PAD> <PAD>\n",
      "\n",
      "Original Text: \n",
      "['new jersey is sometimes quiet during autumn , and it is snowy in april .']\n",
      "Original Transaltion: \n",
      "[\"new jersey est parfois calme pendant l' automne , et il est neigeux en avril .\"]\n"
     ]
    }
   ],
   "source": [
    "from keras.models import Sequential\n",
    "from keras.layers import Dense, Activation,SimpleRNN, Dropout, GRU, TimeDistributed\n",
    "\n",
    "def simple_model(input_shape, output_sequence_length, english_vocab_size, french_vocab_size):\n",
    "    \"\"\"\n",
    "    Build and train a basic RNN on x and y\n",
    "    :param input_shape: Tuple of input shape\n",
    "    :param output_sequence_length: Length of output sequence\n",
    "    :param english_vocab_size: Number of unique English words in the dataset\n",
    "    :param french_vocab_size: Number of unique French words in the dataset\n",
    "    :return: Keras model built, but not trained\n",
    "    \"\"\"\n",
    "    # Build the layers\n",
    "    model = Sequential()\n",
    "    \n",
    "#     model.add(SimpleRNN(output_sequence_length,  # Dimensionality of the output space\n",
    "#                        activation= 'tanh',       # tanh activation\n",
    "#                        return_sequences = True,  # To feed the output to other recurrent layers\n",
    "#                        input_shape= input_shape[1:]  # Input Dimensionality\n",
    "#                        )\n",
    "#              )\n",
    "    model.add(GRU(128, input_shape= input_shape[1:], return_sequences= True))\n",
    "    model.add(Dropout(0.2))\n",
    "    model.add(TimeDistributed(Dense(french_vocab_size*5, activation= 'relu')))\n",
    "    model.add(Dropout(0.2))\n",
    "    model.add(TimeDistributed(Dense(french_vocab_size, activation= 'softmax')))\n",
    "    \n",
    "    learning_rate = 0.001\n",
    "    model.compile(loss=sparse_categorical_crossentropy,\n",
    "                  optimizer=Adam(learning_rate),\n",
    "                  metrics=['accuracy'])\n",
    "    return model\n",
    "tests.test_simple_model(simple_model)\n",
    "\n",
    "# Reshaping the input to work with a basic RNN\n",
    "tmp_x = pad(preproc_english_sentences, max_french_sequence_length)\n",
    "tmp_x = tmp_x.reshape((-1, preproc_french_sentences.shape[-2], 1))\n",
    "\n",
    "# Train the neural network\n",
    "simple_rnn_model = simple_model(\n",
    "    tmp_x.shape,\n",
    "    max_french_sequence_length,\n",
    "    english_vocab_size,\n",
    "    french_vocab_size)\n",
    "simple_rnn_model.fit(tmp_x, preproc_french_sentences, batch_size=1024, epochs=10, validation_split=0.2)\n",
    "\n",
    "# Print prediction(s)\n",
    "print(logits_to_text(simple_rnn_model.predict(tmp_x[:1])[0], french_tokenizer))\n",
    "print()\n",
    "print(\"Original Text: \")\n",
    "print(english_sentences[:1])\n",
    "print(\"Original Transaltion: \")\n",
    "print(french_sentences[:1])"
   ]
  },
  {
   "cell_type": "code",
   "execution_count": 28,
   "metadata": {},
   "outputs": [
    {
     "name": "stdout",
     "output_type": "stream",
     "text": [
      "Train accurancy:  0.706681473157\n"
     ]
    }
   ],
   "source": [
    "# Evaluate Model\n",
    "score = simple_rnn_model.evaluate(tmp_x, preproc_french_sentences, verbose=0)\n",
    "print(\"Train accurancy: \", score[1])"
   ]
  },
  {
   "cell_type": "markdown",
   "metadata": {},
   "source": [
    "### Model 2: Embedding (IMPLEMENTATION)\n",
    "![RNN](images/embedding.png)\n",
    "You've turned the words into ids, but there's a better representation of a word.  This is called word embeddings.  An embedding is a vector representation of the word that is close to similar words in n-dimensional space, where the n represents the size of the embedding vectors.\n",
    "\n",
    "In this model, you'll create a RNN model using embedding."
   ]
  },
  {
   "cell_type": "code",
   "execution_count": 57,
   "metadata": {},
   "outputs": [
    {
     "name": "stdout",
     "output_type": "stream",
     "text": [
      "_________________________________________________________________\n",
      "Layer (type)                 Output Shape              Param #   \n",
      "=================================================================\n",
      "embedding_13 (Embedding)     (None, 21, 128)           25472     \n",
      "_________________________________________________________________\n",
      "gru_29 (GRU)                 (None, 21, 128)           98688     \n",
      "_________________________________________________________________\n",
      "time_distributed_49 (TimeDis (None, 21, 1720)          221880    \n",
      "_________________________________________________________________\n",
      "dropout_33 (Dropout)         (None, 21, 1720)          0         \n",
      "_________________________________________________________________\n",
      "time_distributed_50 (TimeDis (None, 21, 344)           592024    \n",
      "=================================================================\n",
      "Total params: 938,064\n",
      "Trainable params: 938,064\n",
      "Non-trainable params: 0\n",
      "_________________________________________________________________\n",
      "Train on 110288 samples, validate on 27573 samples\n",
      "Epoch 1/10\n",
      "110288/110288 [==============================] - 20s 181us/step - loss: 2.6537 - acc: 0.4879 - val_loss: nan - val_acc: 0.6144\n",
      "Epoch 2/10\n",
      "110288/110288 [==============================] - 19s 169us/step - loss: 1.1121 - acc: 0.6991 - val_loss: nan - val_acc: 0.7738\n",
      "Epoch 3/10\n",
      "110288/110288 [==============================] - 19s 168us/step - loss: 0.6818 - acc: 0.7950 - val_loss: nan - val_acc: 0.8190\n",
      "Epoch 4/10\n",
      "110288/110288 [==============================] - 19s 168us/step - loss: 0.5414 - acc: 0.8272 - val_loss: nan - val_acc: 0.8471\n",
      "Epoch 5/10\n",
      "110288/110288 [==============================] - 19s 168us/step - loss: 0.4599 - acc: 0.8491 - val_loss: nan - val_acc: 0.8626\n",
      "Epoch 6/10\n",
      "110288/110288 [==============================] - 18s 168us/step - loss: 0.4082 - acc: 0.8641 - val_loss: nan - val_acc: 0.8765\n",
      "Epoch 7/10\n",
      "110288/110288 [==============================] - 19s 168us/step - loss: 0.3682 - acc: 0.8766 - val_loss: nan - val_acc: 0.8866\n",
      "Epoch 8/10\n",
      "110288/110288 [==============================] - 19s 168us/step - loss: 0.3412 - acc: 0.8848 - val_loss: nan - val_acc: 0.8937\n",
      "Epoch 9/10\n",
      "110288/110288 [==============================] - 19s 168us/step - loss: 0.3205 - acc: 0.8913 - val_loss: nan - val_acc: 0.8985\n",
      "Epoch 10/10\n",
      "110288/110288 [==============================] - 18s 168us/step - loss: 0.3023 - acc: 0.8970 - val_loss: nan - val_acc: 0.9022\n",
      "new jersey est parfois calme en l' et il est est neigeux en avril <PAD> <PAD> <PAD> <PAD> <PAD> <PAD> <PAD>\n",
      "\n",
      "Original Text: \n",
      "['new jersey is sometimes quiet during autumn , and it is snowy in april .']\n",
      "Original Transaltion: \n",
      "[\"new jersey est parfois calme pendant l' automne , et il est neigeux en avril .\"]\n"
     ]
    }
   ],
   "source": [
    "def embed_model(input_shape, output_sequence_length, english_vocab_size, french_vocab_size):\n",
    "    \"\"\"\n",
    "    Build and train a RNN model using word embedding on x and y\n",
    "    :param input_shape: Tuple of input shape\n",
    "    :param output_sequence_length: Length of output sequence\n",
    "    :param english_vocab_size: Number of unique English words in the dataset\n",
    "    :param french_vocab_size: Number of unique French words in the dataset\n",
    "    :return: Keras model built, but not trained\n",
    "    \"\"\"\n",
    "    model = Sequential()\n",
    "    # Embedding Layer\n",
    "    model.add(Embedding(english_vocab_size,                # Vocab Size\n",
    "                        128,                               # Embedding Dimension \n",
    "                        input_length= input_shape[1],      # Length of Input \n",
    "                        input_shape= input_shape[1:]))     # Shape of Input\n",
    "    # GRU Layer\n",
    "    model.add(GRU(128, return_sequences= True))\n",
    "    # Dense Connected Layer\n",
    "    model.add(TimeDistributed(Dense(french_vocab_size * 5, activation= 'relu')))\n",
    "    model.add(Dropout(0.2))\n",
    "    # Output Layer\n",
    "    model.add(TimeDistributed(Dense(french_vocab_size, activation= 'softmax')))\n",
    "    # Compile Model\n",
    "    learning_rate = 0.001\n",
    "    model.compile(loss=sparse_categorical_crossentropy,\n",
    "                  optimizer=Adam(learning_rate),\n",
    "                  metrics=['accuracy'])\n",
    "    return model\n",
    "tests.test_embed_model(embed_model)\n",
    "\n",
    "\n",
    "# Reshape the input\n",
    "tmp_x = pad(preproc_english_sentences, max_french_sequence_length)\n",
    "\n",
    "# Train the neural network\n",
    "embed_rnn_model= embed_model(tmp_x.shape,\n",
    "                    max_french_sequence_length,\n",
    "                    english_vocab_size,\n",
    "                    french_vocab_size)\n",
    "embed_rnn_model.summary()\n",
    "embed_rnn_model.fit(tmp_x, preproc_french_sentences, batch_size=1024, epochs= 10, validation_split=0.2)\n",
    "\n",
    "# Print prediction(s)\n",
    "print(logits_to_text(embed_rnn_model.predict(tmp_x[:1])[0], french_tokenizer))\n",
    "print()\n",
    "print(\"Original Text: \")\n",
    "print(english_sentences[:1])\n",
    "print(\"Original Transaltion: \")\n",
    "print(french_sentences[:1])"
   ]
  },
  {
   "cell_type": "markdown",
   "metadata": {},
   "source": [
    "### Model 3: Bidirectional RNNs (IMPLEMENTATION)\n",
    "![RNN](images/bidirectional.png)\n",
    "One restriction of a RNN is that it can't see the future input, only the past.  This is where bidirectional recurrent neural networks come in.  They are able to see the future data."
   ]
  },
  {
   "cell_type": "code",
   "execution_count": 58,
   "metadata": {},
   "outputs": [
    {
     "name": "stdout",
     "output_type": "stream",
     "text": [
      "_________________________________________________________________\n",
      "Layer (type)                 Output Shape              Param #   \n",
      "=================================================================\n",
      "bidirectional_7 (Bidirection (None, 21, 256)           99840     \n",
      "_________________________________________________________________\n",
      "time_distributed_53 (TimeDis (None, 21, 1720)          442040    \n",
      "_________________________________________________________________\n",
      "dropout_35 (Dropout)         (None, 21, 1720)          0         \n",
      "_________________________________________________________________\n",
      "time_distributed_54 (TimeDis (None, 21, 344)           592024    \n",
      "=================================================================\n",
      "Total params: 1,133,904\n",
      "Trainable params: 1,133,904\n",
      "Non-trainable params: 0\n",
      "_________________________________________________________________\n",
      "Train on 110288 samples, validate on 27573 samples\n",
      "Epoch 1/10\n",
      "110288/110288 [==============================] - 24s 214us/step - loss: 2.1239 - acc: 0.5491 - val_loss: nan - val_acc: 0.6197\n",
      "Epoch 2/10\n",
      "110288/110288 [==============================] - 22s 201us/step - loss: 1.3172 - acc: 0.6311 - val_loss: nan - val_acc: 0.6511\n",
      "Epoch 3/10\n",
      "110288/110288 [==============================] - 22s 201us/step - loss: 1.1811 - acc: 0.6542 - val_loss: nan - val_acc: 0.6640\n",
      "Epoch 4/10\n",
      "110288/110288 [==============================] - 22s 201us/step - loss: 1.1023 - acc: 0.6679 - val_loss: nan - val_acc: 0.6801\n",
      "Epoch 5/10\n",
      "110288/110288 [==============================] - 22s 201us/step - loss: 1.0392 - acc: 0.6795 - val_loss: nan - val_acc: 0.6898\n",
      "Epoch 6/10\n",
      "110288/110288 [==============================] - 22s 201us/step - loss: 0.9890 - acc: 0.6878 - val_loss: nan - val_acc: 0.6989\n",
      "Epoch 7/10\n",
      "110288/110288 [==============================] - 22s 201us/step - loss: 0.9489 - acc: 0.6943 - val_loss: nan - val_acc: 0.7026\n",
      "Epoch 8/10\n",
      "110288/110288 [==============================] - 22s 201us/step - loss: 0.9136 - acc: 0.7013 - val_loss: nan - val_acc: 0.7120\n",
      "Epoch 9/10\n",
      "110288/110288 [==============================] - 22s 200us/step - loss: 0.8832 - acc: 0.7078 - val_loss: nan - val_acc: 0.7205\n",
      "Epoch 10/10\n",
      "110288/110288 [==============================] - 22s 200us/step - loss: 0.8534 - acc: 0.7143 - val_loss: nan - val_acc: 0.7242\n",
      "new jersey est parfois chaud en mois et il est est en en <PAD> <PAD> <PAD> <PAD> <PAD> <PAD> <PAD> <PAD>\n",
      "\n",
      "Original Text: \n",
      "['new jersey is sometimes quiet during autumn , and it is snowy in april .']\n",
      "Original Transaltion: \n",
      "[\"new jersey est parfois calme pendant l' automne , et il est neigeux en avril .\"]\n"
     ]
    }
   ],
   "source": [
    "def bd_model(input_shape, output_sequence_length, english_vocab_size, french_vocab_size):\n",
    "    \"\"\"\n",
    "    Build and train a bidirectional RNN model on x and y\n",
    "    :param input_shape: Tuple of input shape\n",
    "    :param output_sequence_length: Length of output sequence\n",
    "    :param english_vocab_size: Number of unique English words in the dataset\n",
    "    :param french_vocab_size: Number of unique French words in the dataset\n",
    "    :return: Keras model built, but not trained\n",
    "    \"\"\"\n",
    "    model = Sequential()\n",
    "    # Bidirectional Layer\n",
    "    model.add(Bidirectional(GRU(128, return_sequences= True), input_shape= input_shape[1:]))\n",
    "    # Dense Connected Layer\n",
    "    model.add(TimeDistributed(Dense(french_vocab_size * 5, activation= 'relu')))\n",
    "    model.add(Dropout(0.2))\n",
    "    # Output Layer\n",
    "    model.add(TimeDistributed(Dense(french_vocab_size, activation= 'softmax')))\n",
    "    # Compile Model\n",
    "    learning_rate = 0.001\n",
    "    model.compile(loss=sparse_categorical_crossentropy,\n",
    "                  optimizer=Adam(learning_rate),\n",
    "                  metrics=['accuracy'])\n",
    "    return model\n",
    "tests.test_bd_model(bd_model)\n",
    "\n",
    "tmp_x = pad(preproc_english_sentences, max_french_sequence_length)\n",
    "tmp_x = tmp_x.reshape((-1, preproc_french_sentences.shape[-2], 1))\n",
    "\n",
    "# Train and Print prediction(s)\n",
    "bd_rnn_model= bd_model(tmp_x.shape,\n",
    "                    max_french_sequence_length,\n",
    "                    english_vocab_size,\n",
    "                    french_vocab_size)\n",
    "bd_rnn_model.summary()\n",
    "bd_rnn_model.fit(tmp_x, preproc_french_sentences, batch_size=1024, epochs= 10, validation_split=0.2)\n",
    "\n",
    "# Print prediction(s)\n",
    "print(logits_to_text(bd_rnn_model.predict(tmp_x[:1])[0], french_tokenizer))\n",
    "print()\n",
    "print(\"Original Text: \")\n",
    "print(english_sentences[:1])\n",
    "print(\"Original Transaltion: \")\n",
    "print(french_sentences[:1])"
   ]
  },
  {
   "cell_type": "markdown",
   "metadata": {},
   "source": [
    "### Model 4: Encoder-Decoder (OPTIONAL)\n",
    "Time to look at encoder-decoder models.  This model is made up of an encoder and decoder. The encoder creates a matrix representation of the sentence.  The decoder takes this matrix as input and predicts the translation as output.\n",
    "\n",
    "Create an encoder-decoder model in the cell below."
   ]
  },
  {
   "cell_type": "code",
   "execution_count": 59,
   "metadata": {},
   "outputs": [
    {
     "name": "stdout",
     "output_type": "stream",
     "text": [
      "_________________________________________________________________\n",
      "Layer (type)                 Output Shape              Param #   \n",
      "=================================================================\n",
      "gru_34 (GRU)                 (None, 128)               49920     \n",
      "_________________________________________________________________\n",
      "repeat_vector_8 (RepeatVecto (None, 21, 128)           0         \n",
      "_________________________________________________________________\n",
      "gru_35 (GRU)                 (None, 21, 128)           98688     \n",
      "_________________________________________________________________\n",
      "time_distributed_57 (TimeDis (None, 21, 1720)          221880    \n",
      "_________________________________________________________________\n",
      "dropout_37 (Dropout)         (None, 21, 1720)          0         \n",
      "_________________________________________________________________\n",
      "time_distributed_58 (TimeDis (None, 21, 344)           592024    \n",
      "=================================================================\n",
      "Total params: 962,512\n",
      "Trainable params: 962,512\n",
      "Non-trainable params: 0\n",
      "_________________________________________________________________\n",
      "Train on 110288 samples, validate on 27573 samples\n",
      "Epoch 1/10\n",
      "110288/110288 [==============================] - 23s 211us/step - loss: 3.0566 - acc: 0.4332 - val_loss: nan - val_acc: 0.4837\n",
      "Epoch 2/10\n",
      "110288/110288 [==============================] - 22s 197us/step - loss: 2.1244 - acc: 0.5157 - val_loss: nan - val_acc: 0.5346\n",
      "Epoch 3/10\n",
      "110288/110288 [==============================] - 22s 197us/step - loss: 1.7569 - acc: 0.5497 - val_loss: nan - val_acc: 0.5778\n",
      "Epoch 4/10\n",
      "110288/110288 [==============================] - 22s 197us/step - loss: 1.5732 - acc: 0.5804 - val_loss: nan - val_acc: 0.5978\n",
      "Epoch 5/10\n",
      "110288/110288 [==============================] - 22s 197us/step - loss: 1.4711 - acc: 0.6012 - val_loss: nan - val_acc: 0.6174\n",
      "Epoch 6/10\n",
      "110288/110288 [==============================] - 22s 197us/step - loss: 1.4055 - acc: 0.6125 - val_loss: nan - val_acc: 0.6220\n",
      "Epoch 7/10\n",
      "110288/110288 [==============================] - 22s 197us/step - loss: 1.3730 - acc: 0.6181 - val_loss: nan - val_acc: 0.6358\n",
      "Epoch 8/10\n",
      "110288/110288 [==============================] - 22s 197us/step - loss: 1.3186 - acc: 0.6310 - val_loss: nan - val_acc: 0.6423\n",
      "Epoch 9/10\n",
      "110288/110288 [==============================] - 22s 197us/step - loss: 1.2944 - acc: 0.6363 - val_loss: nan - val_acc: 0.6436\n",
      "Epoch 10/10\n",
      "110288/110288 [==============================] - 22s 197us/step - loss: 1.2757 - acc: 0.6401 - val_loss: nan - val_acc: 0.6521\n",
      "new jersey est jamais agréable en mois et il est est en en <PAD> <PAD> <PAD> <PAD> <PAD> <PAD> <PAD> <PAD>\n",
      "\n",
      "Original Text: \n",
      "['new jersey is sometimes quiet during autumn , and it is snowy in april .']\n",
      "Original Transaltion: \n",
      "[\"new jersey est parfois calme pendant l' automne , et il est neigeux en avril .\"]\n"
     ]
    }
   ],
   "source": [
    "def encdec_model(input_shape, output_sequence_length, english_vocab_size, french_vocab_size):\n",
    "    \"\"\"\n",
    "    Build and train an encoder-decoder model on x and y\n",
    "    :param input_shape: Tuple of input shape\n",
    "    :param output_sequence_length: Length of output sequence\n",
    "    :param english_vocab_size: Number of unique English words in the dataset\n",
    "    :param french_vocab_size: Number of unique French words in the dataset\n",
    "    :return: Keras model built, but not trained\n",
    "    \"\"\"\n",
    "    # Implement\n",
    "    model = Sequential()\n",
    "    \n",
    "    # Encoder\n",
    "    model.add(GRU(128, input_shape= input_shape[1:]))\n",
    "    model.add(RepeatVector(output_sequence_length))\n",
    "    \n",
    "    # Decoder\n",
    "    model.add(GRU(128, return_sequences= True))\n",
    "    model.add(TimeDistributed(Dense(french_vocab_size * 5, activation= 'relu')))\n",
    "    model.add(Dropout(0.2))\n",
    "    model.add(TimeDistributed(Dense(french_vocab_size, activation= 'softmax')))\n",
    "    # Compile Model\n",
    "    learning_rate = 0.001\n",
    "    model.compile(loss=sparse_categorical_crossentropy,\n",
    "                  optimizer=Adam(learning_rate),\n",
    "                  metrics=['accuracy'])\n",
    "    return model\n",
    "tests.test_encdec_model(encdec_model)\n",
    "\n",
    "\n",
    "tmp_x = pad(preproc_english_sentences, max_french_sequence_length)\n",
    "tmp_x = tmp_x.reshape((-1, preproc_french_sentences.shape[-2], 1))\n",
    "\n",
    "# Train and Print prediction(s)\n",
    "encdec_rnn_model= encdec_model(tmp_x.shape,\n",
    "                    max_french_sequence_length,\n",
    "                    english_vocab_size,\n",
    "                    french_vocab_size)\n",
    "encdec_rnn_model.summary()\n",
    "encdec_rnn_model.fit(tmp_x, preproc_french_sentences, batch_size=1024, epochs= 10, validation_split=0.2)\n",
    "\n",
    "# Print prediction(s)\n",
    "print(logits_to_text(encdec_rnn_model.predict(tmp_x[:1])[0], french_tokenizer))\n",
    "print()\n",
    "print(\"Original Text: \")\n",
    "print(english_sentences[:1])\n",
    "print(\"Original Transaltion: \")\n",
    "print(french_sentences[:1])"
   ]
  },
  {
   "cell_type": "markdown",
   "metadata": {},
   "source": [
    "### Model 5: Custom (IMPLEMENTATION)\n",
    "Use everything you learned from the previous models to create a model that incorporates embedding and a bidirectional rnn into one model."
   ]
  },
  {
   "cell_type": "code",
   "execution_count": 60,
   "metadata": {},
   "outputs": [
    {
     "name": "stdout",
     "output_type": "stream",
     "text": [
      "Final Model Loaded\n"
     ]
    }
   ],
   "source": [
    "def model_final(input_shape, output_sequence_length, english_vocab_size, french_vocab_size):\n",
    "    \"\"\"\n",
    "    Build and train a model that incorporates embedding, encoder-decoder, and bidirectional RNN on x and y\n",
    "    :param input_shape: Tuple of input shape\n",
    "    :param output_sequence_length: Length of output sequence\n",
    "    :param english_vocab_size: Number of unique English words in the dataset\n",
    "    :param french_vocab_size: Number of unique French words in the dataset\n",
    "    :return: Keras model built, but not trained\n",
    "    \"\"\"\n",
    "    model = Sequential()\n",
    "    # 1. Embedding Layer\n",
    "    model.add(Embedding(english_vocab_size, 128,\n",
    "                        input_length= input_shape[1], \n",
    "                        input_shape= input_shape[1:]))\n",
    "    # 2. Bidirectional Layer\n",
    "    model.add(Bidirectional(GRU(128)))\n",
    "    # 3. Encoder\n",
    "    model.add(RepeatVector(output_sequence_length))\n",
    "    # 4. Decoder\n",
    "    model.add(Bidirectional(GRU(128, return_sequences= True)))\n",
    "    model.add(Dropout(0.2))\n",
    "    # 5. Fully Connected Layer\n",
    "    model.add(TimeDistributed(Dense(french_vocab_size * 5, activation='relu')))\n",
    "    model.add(Dropout(0.2))\n",
    "    # 6. Output Layer\n",
    "    model.add(TimeDistributed(Dense(french_vocab_size, activation='softmax')))\n",
    "    # Compile Model\n",
    "    learning_rate = 0.001\n",
    "    model.compile(loss=sparse_categorical_crossentropy,\n",
    "                  optimizer=Adam(learning_rate),\n",
    "                  metrics=['accuracy'])\n",
    "    \n",
    "    return model\n",
    "tests.test_model_final(model_final)\n",
    "\n",
    "\n",
    "print('Final Model Loaded')"
   ]
  },
  {
   "cell_type": "markdown",
   "metadata": {},
   "source": [
    "## Prediction (IMPLEMENTATION)"
   ]
  },
  {
   "cell_type": "code",
   "execution_count": 61,
   "metadata": {},
   "outputs": [
    {
     "name": "stdout",
     "output_type": "stream",
     "text": [
      "_________________________________________________________________\n",
      "Layer (type)                 Output Shape              Param #   \n",
      "=================================================================\n",
      "embedding_15 (Embedding)     (None, 15, 128)           25600     \n",
      "_________________________________________________________________\n",
      "bidirectional_10 (Bidirectio (None, 256)               197376    \n",
      "_________________________________________________________________\n",
      "repeat_vector_10 (RepeatVect (None, 21, 256)           0         \n",
      "_________________________________________________________________\n",
      "bidirectional_11 (Bidirectio (None, 21, 256)           295680    \n",
      "_________________________________________________________________\n",
      "dropout_40 (Dropout)         (None, 21, 256)           0         \n",
      "_________________________________________________________________\n",
      "time_distributed_61 (TimeDis (None, 21, 1725)          443325    \n",
      "_________________________________________________________________\n",
      "dropout_41 (Dropout)         (None, 21, 1725)          0         \n",
      "_________________________________________________________________\n",
      "time_distributed_62 (TimeDis (None, 21, 345)           595470    \n",
      "=================================================================\n",
      "Total params: 1,557,451\n",
      "Trainable params: 1,557,451\n",
      "Non-trainable params: 0\n",
      "_________________________________________________________________\n",
      "Train on 110288 samples, validate on 27573 samples\n",
      "Epoch 1/10\n",
      "110288/110288 [==============================] - 37s 335us/step - loss: 2.7432 - acc: 0.4587 - val_loss: 1.7525 - val_acc: 0.5595\n",
      "Epoch 2/10\n",
      "110288/110288 [==============================] - 34s 311us/step - loss: 1.5527 - acc: 0.5913 - val_loss: 1.2762 - val_acc: 0.6536\n",
      "Epoch 3/10\n",
      "110288/110288 [==============================] - 34s 311us/step - loss: 1.2699 - acc: 0.6509 - val_loss: 1.0972 - val_acc: 0.6913\n",
      "Epoch 4/10\n",
      "110288/110288 [==============================] - 34s 311us/step - loss: 1.1364 - acc: 0.6787 - val_loss: 0.9952 - val_acc: 0.7149\n",
      "Epoch 5/10\n",
      "110288/110288 [==============================] - 34s 310us/step - loss: 1.0395 - acc: 0.6993 - val_loss: 0.9102 - val_acc: 0.7357\n",
      "Epoch 6/10\n",
      "110288/110288 [==============================] - 34s 311us/step - loss: 0.9589 - acc: 0.7170 - val_loss: 0.8447 - val_acc: 0.7471\n",
      "Epoch 7/10\n",
      "110288/110288 [==============================] - 34s 311us/step - loss: 0.8928 - acc: 0.7308 - val_loss: 0.7909 - val_acc: 0.7626\n",
      "Epoch 8/10\n",
      "110288/110288 [==============================] - 34s 311us/step - loss: 0.8286 - acc: 0.7467 - val_loss: 0.7091 - val_acc: 0.7846\n",
      "Epoch 9/10\n",
      "110288/110288 [==============================] - 34s 310us/step - loss: 0.7625 - acc: 0.7639 - val_loss: 0.6614 - val_acc: 0.7979\n",
      "Epoch 10/10\n",
      "110288/110288 [==============================] - 34s 311us/step - loss: 0.7079 - acc: 0.7795 - val_loss: 0.6021 - val_acc: 0.8165\n",
      "Sample 1:\n",
      "il a vu un vieux camion noir <PAD> <PAD> <PAD> <PAD> <PAD> <PAD> <PAD> <PAD> <PAD> <PAD> <PAD> <PAD> <PAD> <PAD>\n",
      "Il a vu un vieux camion jaune\n",
      "Sample 2:\n",
      "new jersey est parfois doux pendant l' automne il est est en avril avril <PAD> <PAD> <PAD> <PAD> <PAD> <PAD> <PAD>\n",
      "new jersey est parfois calme pendant l' automne et il est neigeux en avril <PAD> <PAD> <PAD> <PAD> <PAD> <PAD> <PAD>\n"
     ]
    }
   ],
   "source": [
    "def final_predictions(x, y, x_tk, y_tk):\n",
    "    \"\"\"\n",
    "    Gets predictions using the final model\n",
    "    :param x: Preprocessed English data\n",
    "    :param y: Preprocessed French data\n",
    "    :param x_tk: English tokenizer\n",
    "    :param y_tk: French tokenizer\n",
    "    \"\"\"\n",
    "    # Train neural network using model_final\n",
    "    model = model_final(x.shape, \n",
    "                        y.shape[1], \n",
    "                        len(x_tk.word_index) + 1, \n",
    "                        len(y_tk.word_index) + 1)\n",
    "    model.summary()\n",
    "    model.fit(x, y, batch_size=1024, epochs= 10, validation_split=0.2)\n",
    "\n",
    "    ## DON'T EDIT ANYTHING BELOW THIS LINE\n",
    "    y_id_to_word = {value: key for key, value in y_tk.word_index.items()}\n",
    "    y_id_to_word[0] = '<PAD>'\n",
    "\n",
    "    sentence = 'he saw a old yellow truck'\n",
    "    sentence = [x_tk.word_index[word] for word in sentence.split()]\n",
    "    sentence = pad_sequences([sentence], maxlen=x.shape[-1], padding='post')\n",
    "    sentences = np.array([sentence[0], x[0]])\n",
    "    predictions = model.predict(sentences, len(sentences))\n",
    "\n",
    "    print('Sample 1:')\n",
    "    print(' '.join([y_id_to_word[np.argmax(x)] for x in predictions[0]]))\n",
    "    print('Il a vu un vieux camion jaune')\n",
    "    print('Sample 2:')\n",
    "    print(' '.join([y_id_to_word[np.argmax(x)] for x in predictions[1]]))\n",
    "    print(' '.join([y_id_to_word[np.max(x)] for x in y[0]]))\n",
    "\n",
    "\n",
    "final_predictions(preproc_english_sentences, preproc_french_sentences, english_tokenizer, french_tokenizer)"
   ]
  },
  {
   "cell_type": "markdown",
   "metadata": {},
   "source": [
    "## Submission\n",
    "When you're ready to submit, complete the following steps:\n",
    "1. Review the [rubric](https://review.udacity.com/#!/rubrics/1004/view) to ensure your submission meets all requirements to pass\n",
    "2. Generate an HTML version of this notebook\n",
    "\n",
    "  - Run the next cell to attempt automatic generation (this is the recommended method in Workspaces)\n",
    "  - Navigate to **FILE -> Download as -> HTML (.html)**\n",
    "  - Manually generate a copy using `nbconvert` from your shell terminal\n",
    "```\n",
    "$ pip install nbconvert\n",
    "$ python -m nbconvert machine_translation.ipynb\n",
    "```\n",
    "  \n",
    "3. Submit the project\n",
    "\n",
    "  - If you are in a Workspace, simply click the \"Submit Project\" button (bottom towards the right)\n",
    "  \n",
    "  - Otherwise, add the following files into a zip archive and submit them \n",
    "  - `helper.py`\n",
    "  - `machine_translation.ipynb`\n",
    "  - `machine_translation.html`\n",
    "    - You can export the notebook by navigating to **File -> Download as -> HTML (.html)**."
   ]
  },
  {
   "cell_type": "code",
   "execution_count": 62,
   "metadata": {},
   "outputs": [
    {
     "data": {
      "text/plain": [
       "['[NbConvertApp] Converting notebook machine_translation.ipynb to html',\n",
       " '[NbConvertApp] Writing 352727 bytes to machine_translation.html']"
      ]
     },
     "execution_count": 62,
     "metadata": {},
     "output_type": "execute_result"
    }
   ],
   "source": [
    "!!python -m nbconvert *.ipynb"
   ]
  },
  {
   "cell_type": "markdown",
   "metadata": {},
   "source": [
    "## Optional Enhancements\n",
    "\n",
    "This project focuses on learning various network architectures for machine translation, but we don't evaluate the models according to best practices by splitting the data into separate test & training sets -- so the model accuracy is overstated. Use the [`sklearn.model_selection.train_test_split()`](http://scikit-learn.org/stable/modules/generated/sklearn.model_selection.train_test_split.html) function to create separate training & test datasets, then retrain each of the models using only the training set and evaluate the prediction accuracy using the hold out test set. Does the \"best\" model change?"
   ]
  }
 ],
 "metadata": {
  "kernelspec": {
   "display_name": "Python 3",
   "language": "python",
   "name": "python3"
  },
  "language_info": {
   "codemirror_mode": {
    "name": "ipython",
    "version": 3
   },
   "file_extension": ".py",
   "mimetype": "text/x-python",
   "name": "python",
   "nbconvert_exporter": "python",
   "pygments_lexer": "ipython3",
   "version": "3.6.3"
  }
 },
 "nbformat": 4,
 "nbformat_minor": 1
}
